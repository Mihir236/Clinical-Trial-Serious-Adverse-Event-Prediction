{
 "cells": [
  {
   "cell_type": "code",
   "execution_count": 7,
   "id": "852de281-788e-4882-b65b-80c2415a5aab",
   "metadata": {},
   "outputs": [
    {
     "name": "stdout",
     "output_type": "stream",
     "text": [
      "Saved 6274 ICD codes to /Users/mihirmodi/Desktop/ML2ClinicalTrials-main/data/raw_data.csv\n"
     ]
    }
   ],
   "source": [
    "import pandas as pd\n",
    "import os\n",
    "\n",
    "data_dir = \"/Users/mihirmodi/Desktop/ML2ClinicalTrials-main/data/mortality-event-prediction\"\n",
    "icd_codes = set()\n",
    "\n",
    "# Iterate through all phase directories\n",
    "for phase_dir in ['Phase1', 'Phase2', 'Phase3', 'Phase4']:\n",
    "    train_x_file = os.path.join(data_dir, phase_dir, \"train_x.csv\")\n",
    "    if os.path.exists(train_x_file):\n",
    "        df = pd.read_csv(train_x_file)\n",
    "        if 'icdcode' in df.columns:\n",
    "            # Handle icdcode column (may be string or list-like)\n",
    "            for codes in df['icdcode'].dropna():\n",
    "                # Parse codes (e.g., \"['C50.9', 'J45']\" or \"C50.9,J45\")\n",
    "                codes = codes.strip(\"[]\").replace(\"'\", \"\").split(',')\n",
    "                for code in codes:\n",
    "                    code = code.strip()\n",
    "                    if code and code != \"unknown\":  # Skip empty or invalid codes\n",
    "                        icd_codes.add(code)\n",
    "\n",
    "# Save to raw_data.csv\n",
    "output_file = \"/Users/mihirmodi/Desktop/ML2ClinicalTrials-main/data/raw_data.csv\"\n",
    "os.makedirs(os.path.dirname(output_file), exist_ok=True)\n",
    "with open(output_file, 'w') as f:\n",
    "    f.write(\"icdcode\\n\")\n",
    "    for code in icd_codes:\n",
    "        f.write(f\"{code}\\n\")\n",
    "\n",
    "print(f\"Saved {len(icd_codes)} ICD codes to {output_file}\")"
   ]
  },
  {
   "cell_type": "code",
   "execution_count": 11,
   "id": "7cd04bdc-7b51-4aa0-962b-8ce192cd7c95",
   "metadata": {},
   "outputs": [
    {
     "name": "stdout",
     "output_type": "stream",
     "text": [
      "Columns in train_y.csv: ['Unnamed: 0', 'droupout_rate', 'Y/N']\n",
      "Sample data (first 5 rows):\n",
      "     Unnamed: 0  droupout_rate  Y/N\n",
      "0  NCT02372344       0.000000    0\n",
      "1  NCT05093530       0.016667    1\n",
      "2  NCT02242045       1.000000    1\n",
      "3  NCT01220999       0.052632    1\n",
      "4  NCT01007032       0.142857    1\n"
     ]
    }
   ],
   "source": [
    "import pandas as pd\n",
    "\n",
    "train_y_file = \"data/patient-dropout-event-forecasting/Phase1/train_y.csv\"\n",
    "df = pd.read_csv(train_y_file)\n",
    "print(\"Columns in train_y.csv:\", df.columns.tolist())\n",
    "print(\"Sample data (first 5 rows):\\n\", df.head())"
   ]
  },
  {
   "cell_type": "code",
   "execution_count": 12,
   "id": "8dc0eb23-3791-4bca-9bbd-092f90f5b82f",
   "metadata": {},
   "outputs": [
    {
     "name": "stdout",
     "output_type": "stream",
     "text": [
      "Columns in test_y.csv: ['Unnamed: 0', 'droupout_rate', 'Y/N']\n"
     ]
    }
   ],
   "source": [
    "import pandas as pd\n",
    "test_y_file = \"data/patient-dropout-event-forecasting/Phase1/test_y.csv\"\n",
    "df = pd.read_csv(test_y_file)\n",
    "print(\"Columns in test_y.csv:\", df.columns.tolist())"
   ]
  },
  {
   "cell_type": "code",
   "execution_count": null,
   "id": "083d2e1c-3f8b-4337-824a-0c11866175de",
   "metadata": {},
   "outputs": [],
   "source": []
  }
 ],
 "metadata": {
  "kernelspec": {
   "display_name": "Python 3 (ipykernel)",
   "language": "python",
   "name": "python3"
  },
  "language_info": {
   "codemirror_mode": {
    "name": "ipython",
    "version": 3
   },
   "file_extension": ".py",
   "mimetype": "text/x-python",
   "name": "python",
   "nbconvert_exporter": "python",
   "pygments_lexer": "ipython3",
   "version": "3.12.8"
  }
 },
 "nbformat": 4,
 "nbformat_minor": 5
}
